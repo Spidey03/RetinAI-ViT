{
 "cells": [
  {
   "cell_type": "markdown",
   "metadata": {},
   "source": [
    "# RetinAI_ViT\n",
    "\n",
    "Diabetic Retinopathy Classifier using BEiT-2, Attention, and a custom head."
   ]
  },
  {
   "cell_type": "markdown",
   "metadata": {},
   "source": [
    "## Configuration"
   ]
  },
  {
   "cell_type": "code",
   "execution_count": 2,
   "metadata": {},
   "outputs": [],
   "source": [
    "import numpy as np\n",
    "import torch"
   ]
  },
  {
   "cell_type": "code",
   "execution_count": 3,
   "metadata": {},
   "outputs": [
    {
     "name": "stdout",
     "output_type": "stream",
     "text": [
      "✅ Using device: cuda\n"
     ]
    }
   ],
   "source": [
    "DEVICE = torch.device(\"cuda\" if torch.cuda.is_available() else \"cpu\")\n",
    "print(f\"✅ Using device: {DEVICE}\")"
   ]
  },
  {
   "cell_type": "code",
   "execution_count": 4,
   "metadata": {},
   "outputs": [],
   "source": [
    "SEED = 42\n",
    "torch.manual_seed(SEED)\n",
    "np.random.seed(SEED)\n",
    "if torch.cuda.is_available():\n",
    "    torch.cuda.manual_seed_all(SEED)"
   ]
  },
  {
   "cell_type": "markdown",
   "metadata": {},
   "source": [
    "### Model & Training Hyperparameters"
   ]
  },
  {
   "cell_type": "code",
   "execution_count": 5,
   "metadata": {},
   "outputs": [],
   "source": [
    "MODEL_NAME = 'microsoft/beit-base-patch16-224'\n",
    "NUM_CLASSES = 5\n",
    "NUM_EPOCHS = 10\n",
    "BATCH_SIZE = 32 # Adjust based on your GPU memory\n",
    "LEARNING_RATE = 1e-5 # Lower learning rate for fine-tuning"
   ]
  },
  {
   "cell_type": "markdown",
   "metadata": {},
   "source": [
    "## Data Preparation"
   ]
  },
  {
   "cell_type": "code",
   "execution_count": 6,
   "metadata": {},
   "outputs": [
    {
     "name": "stdout",
     "output_type": "stream",
     "text": [
      "Dataset is from https://www.kaggle.com/datasets/amanneo/diabetic-retinopathy-resized-arranged, Download and Extract\n"
     ]
    }
   ],
   "source": [
    "print(f\"Dataset is from https://www.kaggle.com/datasets/amanneo/diabetic-retinopathy-resized-arranged, Download and Extract\")\n",
    "DATA_DIR = '/home/spidey03/Downloads/diabetic-retinopathy-resized-arranged'"
   ]
  },
  {
   "cell_type": "code",
   "execution_count": 7,
   "metadata": {},
   "outputs": [
    {
     "name": "stderr",
     "output_type": "stream",
     "text": [
      "/home/spidey03/Projects/RetinAI-ViT/venv/lib/python3.13/site-packages/tqdm/auto.py:21: TqdmWarning: IProgress not found. Please update jupyter and ipywidgets. See https://ipywidgets.readthedocs.io/en/stable/user_install.html\n",
      "  from .autonotebook import tqdm as notebook_tqdm\n"
     ]
    }
   ],
   "source": [
    "import kagglehub\n",
    "\n",
    "# Download latest version\n",
    "# Uncooment below if needs to download the dataset\n",
    "# DATA_DIR = kagglehub.dataset_download(\"amanneo/diabetic-retinopathy-resized-arranged\")"
   ]
  },
  {
   "cell_type": "markdown",
   "metadata": {},
   "source": [
    "### Load Image Processor for BeiT model"
   ]
  },
  {
   "cell_type": "code",
   "execution_count": 8,
   "metadata": {},
   "outputs": [],
   "source": [
    "from transformers import AutoImageProcessor\n",
    "\n",
    "processor = AutoImageProcessor.from_pretrained(MODEL_NAME, use_fast=True)\n",
    "image_mean = processor.image_mean\n",
    "image_std = processor.image_std\n",
    "image_size = processor.size['height']"
   ]
  },
  {
   "cell_type": "markdown",
   "metadata": {},
   "source": [
    "### Data Augmentations for Training Set"
   ]
  },
  {
   "cell_type": "code",
   "execution_count": 9,
   "metadata": {},
   "outputs": [],
   "source": [
    "import torchvision.transforms as T\n",
    "\n",
    "train_transforms = T.Compose([\n",
    "    T.RandomHorizontalFlip(p=0.5),\n",
    "    T.RandomRotation(degrees=15),\n",
    "    T.ColorJitter(brightness=0.1, contrast=0.1, saturation=0.1, hue=0.1),\n",
    "    T.Resize((image_size, image_size)),\n",
    "    T.ToTensor(),\n",
    "    T.Normalize(mean=image_mean, std=image_std),\n",
    "])"
   ]
  },
  {
   "cell_type": "markdown",
   "metadata": {},
   "source": [
    "### Data Transformations for Validation & Test sets"
   ]
  },
  {
   "cell_type": "code",
   "execution_count": 10,
   "metadata": {},
   "outputs": [],
   "source": [
    "eval_transforms = T.Compose([\n",
    "    T.Resize((image_size, image_size)),\n",
    "    T.ToTensor(),\n",
    "    T.Normalize(mean=image_mean, std=image_std),\n",
    "])"
   ]
  },
  {
   "cell_type": "markdown",
   "metadata": {},
   "source": [
    "### Load Dataset"
   ]
  },
  {
   "cell_type": "code",
   "execution_count": 11,
   "metadata": {},
   "outputs": [
    {
     "name": "stdout",
     "output_type": "stream",
     "text": [
      "Loading data from /home/spidey03/Downloads/diabetic-retinopathy-resized-arranged\n",
      "Found 35126 images belonging to 5 classes.\n"
     ]
    }
   ],
   "source": [
    "from torchvision.datasets import ImageFolder\n",
    "\n",
    "print(f\"Loading data from {DATA_DIR}\")\n",
    "\n",
    "full_dataset = ImageFolder(DATA_DIR)\n",
    "class_names = full_dataset.classes\n",
    "print(f\"Found {len(full_dataset)} images belonging to {len(class_names)} classes.\")"
   ]
  },
  {
   "cell_type": "markdown",
   "metadata": {},
   "source": [
    "### Data Split"
   ]
  },
  {
   "cell_type": "code",
   "execution_count": 12,
   "metadata": {},
   "outputs": [
    {
     "name": "stdout",
     "output_type": "stream",
     "text": [
      "Training set size: 24588\n",
      "Validation set size: 5268\n",
      "Test set size: 5270\n"
     ]
    }
   ],
   "source": [
    "from torch.utils.data import random_split\n",
    "\n",
    "TRAIN_SPLIT = 0.7\n",
    "VALID_SPLIT = 0.15\n",
    "\n",
    "train_size = int(TRAIN_SPLIT * len(full_dataset))\n",
    "valid_size = int(VALID_SPLIT * len(full_dataset))\n",
    "test_size = len(full_dataset) - train_size - valid_size\n",
    "\n",
    "train_subset, valid_subset, test_subset = random_split(\n",
    "    full_dataset, [train_size, valid_size, test_size],\n",
    "    generator=torch.Generator().manual_seed(SEED)\n",
    ")\n",
    "\n",
    "print(f\"Training set size: {len(train_subset)}\")\n",
    "print(f\"Validation set size: {len(valid_subset)}\")\n",
    "print(f\"Test set size: {len(test_subset)}\")"
   ]
  },
  {
   "cell_type": "markdown",
   "metadata": {},
   "source": [
    "#### Custom Dataset class to Apply correct transformation"
   ]
  },
  {
   "cell_type": "code",
   "execution_count": 13,
   "metadata": {},
   "outputs": [],
   "source": [
    "from torch.utils.data import Dataset\n",
    "\n",
    "class DRDataset(Dataset):\n",
    "    def __init__(self, subset, transform=None):\n",
    "        self.subset = subset\n",
    "        self.transform = transform\n",
    "\n",
    "    def __getitem__(self, index):\n",
    "        x, y = self.subset[index]\n",
    "        if self.transform:\n",
    "            x = self.transform(x)\n",
    "        return x, y\n",
    "\n",
    "    def __len__(self):\n",
    "        return len(self.subset)\n",
    "\n",
    "train_dataset = DRDataset(train_subset, transform=train_transforms)\n",
    "valid_dataset = DRDataset(valid_subset, transform=eval_transforms)\n",
    "test_dataset = DRDataset(test_subset, transform=eval_transforms)"
   ]
  },
  {
   "cell_type": "markdown",
   "metadata": {},
   "source": [
    "#### Handle Class Imbalance with WeightedRandomSampler"
   ]
  },
  {
   "cell_type": "code",
   "execution_count": 14,
   "metadata": {},
   "outputs": [
    {
     "name": "stdout",
     "output_type": "stream",
     "text": [
      "\n",
      "⚖️ Addressing class imbalance...\n"
     ]
    }
   ],
   "source": [
    "from torch.utils.data import WeightedRandomSampler\n",
    "\n",
    "print(\"\\n⚖️ Addressing class imbalance...\")\n",
    "train_labels = [label for _, label in train_subset]\n",
    "class_counts = np.bincount(train_labels)\n",
    "class_weights = 1. / class_counts\n",
    "sample_weights = np.array([class_weights[t] for t in train_labels])\n",
    "sampler = WeightedRandomSampler(\n",
    "    weights=torch.from_numpy(sample_weights).double(),\n",
    "    num_samples=len(train_subset),\n",
    "    replacement=True\n",
    ")"
   ]
  },
  {
   "cell_type": "markdown",
   "metadata": {},
   "source": [
    "#### Create Dataloaders"
   ]
  },
  {
   "cell_type": "code",
   "execution_count": 15,
   "metadata": {},
   "outputs": [
    {
     "name": "stdout",
     "output_type": "stream",
     "text": [
      "✅ DataLoaders created.\n"
     ]
    }
   ],
   "source": [
    "from torch.utils.data import DataLoader\n",
    "\n",
    "train_loader = DataLoader(train_dataset, batch_size=BATCH_SIZE, sampler=sampler)\n",
    "valid_loader = DataLoader(valid_dataset, batch_size=BATCH_SIZE, shuffle=False)\n",
    "test_loader = DataLoader(test_dataset, batch_size=BATCH_SIZE, shuffle=False)\n",
    "print(\"✅ DataLoaders created.\")"
   ]
  },
  {
   "cell_type": "markdown",
   "metadata": {},
   "source": [
    "### Data Architecture"
   ]
  },
  {
   "cell_type": "code",
   "execution_count": 16,
   "metadata": {},
   "outputs": [
    {
     "name": "stdout",
     "output_type": "stream",
     "text": [
      "\n",
      "🧠 Initializing model architecture...\n",
      "✅ Model initialized and moved to device.\n"
     ]
    }
   ],
   "source": [
    "import torch.nn as nn\n",
    "from transformers import BeitModel\n",
    "\n",
    "class BEiTForDRClassification(nn.Module):\n",
    "    def __init__(self, num_classes=5):\n",
    "        super(BEiTForDRClassification, self).__init__()\n",
    "        # Load pre-trained BEiT model\n",
    "        self.beit = BeitModel.from_pretrained(MODEL_NAME)\n",
    "        \n",
    "        # --- Freeze most layers ---\n",
    "        # Unfreeze only the last 2 layers of the encoder for fine-tuning\n",
    "        for param in self.beit.parameters():\n",
    "            param.requires_grad = False\n",
    "        for layer in self.beit.encoder.layer[-2:]:\n",
    "            for param in layer.parameters():\n",
    "                param.requires_grad = True\n",
    "\n",
    "        hidden_size = self.beit.config.hidden_size\n",
    "\n",
    "        # --- Attention Mechanism ---\n",
    "        # This will learn to weigh the importance of different patch embeddings\n",
    "        self.attention = nn.MultiheadAttention(\n",
    "            embed_dim=hidden_size,\n",
    "            num_heads=8, # A common choice\n",
    "            dropout=0.1,\n",
    "            batch_first=True\n",
    "        )\n",
    "\n",
    "        # --- Classifier Head ---\n",
    "        self.classifier = nn.Sequential(\n",
    "            nn.LayerNorm(hidden_size),\n",
    "            nn.Linear(hidden_size, hidden_size // 2),\n",
    "            nn.GELU(),\n",
    "            nn.Dropout(0.3),\n",
    "            nn.Linear(hidden_size // 2, num_classes)\n",
    "        )\n",
    "\n",
    "    def forward(self, pixel_values):\n",
    "        # BEiT forward pass -> outputs patch embeddings\n",
    "        # Output shape: (batch_size, num_patches + 1, hidden_size)\n",
    "        outputs = self.beit(pixel_values=pixel_values)\n",
    "        last_hidden_state = outputs.last_hidden_state\n",
    "\n",
    "        # Attention mechanism\n",
    "        # MultiheadAttention expects (query, key, value)\n",
    "        # We use the same hidden state for all three\n",
    "        attn_output, _ = self.attention(\n",
    "            last_hidden_state, last_hidden_state, last_hidden_state\n",
    "        )\n",
    "\n",
    "        # We take the output corresponding to the [CLS] token for classification\n",
    "        # The [CLS] token is the first token in the sequence\n",
    "        cls_token_output = attn_output[:, 0]\n",
    "\n",
    "        # Pass through the classifier head\n",
    "        logits = self.classifier(cls_token_output)\n",
    "        return logits\n",
    "\n",
    "print(\"\\n🧠 Initializing model architecture...\")\n",
    "model = BEiTForDRClassification(num_classes=NUM_CLASSES).to(DEVICE)\n",
    "print(\"✅ Model initialized and moved to device.\")"
   ]
  },
  {
   "cell_type": "markdown",
   "metadata": {},
   "source": [
    "### Training & Fine Tuning"
   ]
  },
  {
   "cell_type": "code",
   "execution_count": 17,
   "metadata": {},
   "outputs": [],
   "source": [
    "import torch.optim as optim\n",
    "\n",
    "criterion = nn.CrossEntropyLoss()\n",
    "optimizer = optim.AdamW(filter(lambda p: p.requires_grad, model.parameters()), lr=LEARNING_RATE)\n",
    "scheduler = optim.lr_scheduler.ReduceLROnPlateau(optimizer, 'min', factor=0.2, patience=2)"
   ]
  },
  {
   "cell_type": "code",
   "execution_count": 18,
   "metadata": {},
   "outputs": [],
   "source": [
    "from sklearn.metrics import accuracy_score, f1_score, precision_score, recall_score, confusion_matrix\n",
    "from tqdm.auto import tqdm\n",
    "\n",
    "def train_one_epoch(model, dataloader, criterion, optimizer, device):\n",
    "    model.train()\n",
    "    running_loss = 0.0\n",
    "    all_preds = []\n",
    "    all_labels = []\n",
    "\n",
    "    progress_bar = tqdm(dataloader, desc=\"Training\")\n",
    "    for inputs, labels in progress_bar:\n",
    "        inputs, labels = inputs.to(device), labels.to(device)\n",
    "\n",
    "        # Zero the parameter gradients\n",
    "        optimizer.zero_grad()\n",
    "\n",
    "        # Forward pass\n",
    "        outputs = model(inputs)\n",
    "        loss = criterion(outputs, labels)\n",
    "\n",
    "        # Backward pass and optimize\n",
    "        loss.backward()\n",
    "        optimizer.step()\n",
    "\n",
    "        running_loss += loss.item() * inputs.size(0)\n",
    "        \n",
    "        preds = torch.argmax(outputs, dim=1)\n",
    "        all_preds.extend(preds.cpu().numpy())\n",
    "        all_labels.extend(labels.cpu().numpy())\n",
    "        \n",
    "        progress_bar.set_postfix(loss=loss.item())\n",
    "\n",
    "    epoch_loss = running_loss / len(dataloader.dataset)\n",
    "    epoch_acc = accuracy_score(all_labels, all_preds)\n",
    "    epoch_f1 = f1_score(all_labels, all_preds, average='weighted')\n",
    "    epoch_precision = precision_score(all_labels, all_preds, average='weighted')\n",
    "    epoch_recall = recall_score(all_labels, all_preds, average='weighted')\n",
    "    return epoch_loss, {\"accuracy\": epoch_acc, \"f1\": epoch_f1, \"precision\": epoch_precision, \"recall\": epoch_recall}"
   ]
  },
  {
   "cell_type": "code",
   "execution_count": 19,
   "metadata": {},
   "outputs": [],
   "source": [
    "def evaluate(model, dataloader, criterion, device):\n",
    "    model.eval()\n",
    "    running_loss = 0.0\n",
    "    all_preds = []\n",
    "    all_labels = []\n",
    "\n",
    "    with torch.no_grad():\n",
    "        progress_bar = tqdm(dataloader, desc=\"Evaluating\")\n",
    "        for inputs, labels in progress_bar:\n",
    "            inputs, labels = inputs.to(device), labels.to(device)\n",
    "\n",
    "            outputs = model(inputs)\n",
    "            loss = criterion(outputs, labels)\n",
    "            \n",
    "            running_loss += loss.item() * inputs.size(0)\n",
    "            \n",
    "            preds = torch.argmax(outputs, dim=1)\n",
    "            all_preds.extend(preds.cpu().numpy())\n",
    "            all_labels.extend(labels.cpu().numpy())\n",
    "            \n",
    "            progress_bar.set_postfix(loss=loss.item())\n",
    "            \n",
    "    epoch_loss = running_loss / len(dataloader.dataset)\n",
    "    \n",
    "    # Calculate metrics\n",
    "    accuracy = accuracy_score(all_labels, all_preds)\n",
    "    f1 = f1_score(all_labels, all_preds, average='weighted')\n",
    "    precision = precision_score(all_labels, all_preds, average='weighted')\n",
    "    recall = recall_score(all_labels, all_preds, average='weighted')\n",
    "    \n",
    "    return epoch_loss, {\"accuracy\": accuracy, \"f1\": f1, \"precision\": precision, \"recall\": recall}, all_labels, all_preds"
   ]
  },
  {
   "cell_type": "code",
   "execution_count": null,
   "metadata": {},
   "outputs": [
    {
     "name": "stdout",
     "output_type": "stream",
     "text": [
      "\n",
      "🚀 Starting model training...\n",
      "\n",
      "--- Epoch 1/10 ---\n"
     ]
    },
    {
     "name": "stderr",
     "output_type": "stream",
     "text": [
      "Training: 100%|██████████| 769/769 [22:43<00:00,  1.77s/it, loss=1.23]\n"
     ]
    },
    {
     "name": "stdout",
     "output_type": "stream",
     "text": [
      "Epoch 1 | Train Loss: 1.5409 | Train Acc: 0.2905\n"
     ]
    },
    {
     "name": "stderr",
     "output_type": "stream",
     "text": [
      "Evaluating: 100%|██████████| 165/165 [01:39<00:00,  1.66it/s, loss=1.44]\n"
     ]
    },
    {
     "name": "stdout",
     "output_type": "stream",
     "text": [
      "Epoch 1 | Valid Loss: 1.3564 | Valid F1: 0.5044 | Valid Acc: 0.4552\n",
      "✨ New best model saved with F1-score: 0.5044\n",
      "\n",
      "--- Epoch 2/10 ---\n"
     ]
    },
    {
     "name": "stderr",
     "output_type": "stream",
     "text": [
      "Training: 100%|██████████| 769/769 [23:15<00:00,  1.81s/it, loss=1.53]\n"
     ]
    },
    {
     "name": "stdout",
     "output_type": "stream",
     "text": [
      "Epoch 2 | Train Loss: 1.3949 | Train Acc: 0.3734\n"
     ]
    },
    {
     "name": "stderr",
     "output_type": "stream",
     "text": [
      "Evaluating: 100%|██████████| 165/165 [01:41<00:00,  1.63it/s, loss=1.42]\n"
     ]
    },
    {
     "name": "stdout",
     "output_type": "stream",
     "text": [
      "Epoch 2 | Valid Loss: 1.3838 | Valid F1: 0.4070 | Valid Acc: 0.3364\n",
      "\n",
      "--- Epoch 3/10 ---\n"
     ]
    },
    {
     "name": "stderr",
     "output_type": "stream",
     "text": [
      "Training: 100%|██████████| 769/769 [23:13<00:00,  1.81s/it, loss=1.39]\n"
     ]
    },
    {
     "name": "stdout",
     "output_type": "stream",
     "text": [
      "Epoch 3 | Train Loss: 1.3410 | Train Acc: 0.3914\n"
     ]
    },
    {
     "name": "stderr",
     "output_type": "stream",
     "text": [
      "Evaluating: 100%|██████████| 165/165 [01:39<00:00,  1.66it/s, loss=1.37]\n"
     ]
    },
    {
     "name": "stdout",
     "output_type": "stream",
     "text": [
      "Epoch 3 | Valid Loss: 1.2904 | Valid F1: 0.4728 | Valid Acc: 0.4011\n",
      "\n",
      "--- Epoch 4/10 ---\n"
     ]
    },
    {
     "name": "stderr",
     "output_type": "stream",
     "text": [
      "Training: 100%|██████████| 769/769 [24:06<00:00,  1.88s/it, loss=1.23] \n"
     ]
    },
    {
     "name": "stdout",
     "output_type": "stream",
     "text": [
      "Epoch 4 | Train Loss: 1.2911 | Train Acc: 0.4221\n"
     ]
    },
    {
     "name": "stderr",
     "output_type": "stream",
     "text": [
      "Evaluating: 100%|██████████| 165/165 [01:37<00:00,  1.69it/s, loss=1.46]\n"
     ]
    },
    {
     "name": "stdout",
     "output_type": "stream",
     "text": [
      "Epoch 4 | Valid Loss: 1.3473 | Valid F1: 0.3619 | Valid Acc: 0.3020\n",
      "\n",
      "--- Epoch 5/10 ---\n"
     ]
    },
    {
     "name": "stderr",
     "output_type": "stream",
     "text": [
      "Training: 100%|██████████| 769/769 [23:19<00:00,  1.82s/it, loss=1.2]  \n"
     ]
    },
    {
     "name": "stdout",
     "output_type": "stream",
     "text": [
      "Epoch 5 | Train Loss: 1.2784 | Train Acc: 0.4248\n"
     ]
    },
    {
     "name": "stderr",
     "output_type": "stream",
     "text": [
      "Evaluating: 100%|██████████| 165/165 [01:39<00:00,  1.66it/s, loss=1.41]\n"
     ]
    },
    {
     "name": "stdout",
     "output_type": "stream",
     "text": [
      "Epoch 5 | Valid Loss: 1.2870 | Valid F1: 0.5026 | Valid Acc: 0.4355\n",
      "\n",
      "--- Epoch 6/10 ---\n"
     ]
    },
    {
     "name": "stderr",
     "output_type": "stream",
     "text": [
      "Training: 100%|██████████| 769/769 [23:16<00:00,  1.82s/it, loss=1.21] \n"
     ]
    },
    {
     "name": "stdout",
     "output_type": "stream",
     "text": [
      "Epoch 6 | Train Loss: 1.2546 | Train Acc: 0.4359\n"
     ]
    },
    {
     "name": "stderr",
     "output_type": "stream",
     "text": [
      "Evaluating: 100%|██████████| 165/165 [01:39<00:00,  1.66it/s, loss=1.36]\n"
     ]
    },
    {
     "name": "stdout",
     "output_type": "stream",
     "text": [
      "Epoch 6 | Valid Loss: 1.2789 | Valid F1: 0.3889 | Valid Acc: 0.3218\n",
      "\n",
      "--- Epoch 7/10 ---\n"
     ]
    },
    {
     "name": "stderr",
     "output_type": "stream",
     "text": [
      "Training: 100%|██████████| 769/769 [23:13<00:00,  1.81s/it, loss=1.16] \n"
     ]
    },
    {
     "name": "stdout",
     "output_type": "stream",
     "text": [
      "Epoch 7 | Train Loss: 1.2372 | Train Acc: 0.4446\n"
     ]
    },
    {
     "name": "stderr",
     "output_type": "stream",
     "text": [
      "Evaluating: 100%|██████████| 165/165 [01:39<00:00,  1.66it/s, loss=1.39]\n"
     ]
    },
    {
     "name": "stdout",
     "output_type": "stream",
     "text": [
      "Epoch 7 | Valid Loss: 1.2658 | Valid F1: 0.3824 | Valid Acc: 0.3161\n",
      "\n",
      "--- Epoch 8/10 ---\n"
     ]
    },
    {
     "name": "stderr",
     "output_type": "stream",
     "text": [
      "Training: 100%|██████████| 769/769 [23:12<00:00,  1.81s/it, loss=0.867]\n"
     ]
    },
    {
     "name": "stdout",
     "output_type": "stream",
     "text": [
      "Epoch 8 | Train Loss: 1.2232 | Train Acc: 0.4486\n"
     ]
    },
    {
     "name": "stderr",
     "output_type": "stream",
     "text": [
      "Evaluating: 100%|██████████| 165/165 [01:36<00:00,  1.72it/s, loss=1.34]\n"
     ]
    },
    {
     "name": "stdout",
     "output_type": "stream",
     "text": [
      "Epoch 8 | Valid Loss: 1.2452 | Valid F1: 0.4880 | Valid Acc: 0.4227\n",
      "\n",
      "--- Epoch 9/10 ---\n"
     ]
    },
    {
     "name": "stderr",
     "output_type": "stream",
     "text": [
      "Training: 100%|██████████| 769/769 [24:00<00:00,  1.87s/it, loss=1.15] \n"
     ]
    },
    {
     "name": "stdout",
     "output_type": "stream",
     "text": [
      "Epoch 9 | Train Loss: 1.1977 | Train Acc: 0.4655\n"
     ]
    },
    {
     "name": "stderr",
     "output_type": "stream",
     "text": [
      "Evaluating: 100%|██████████| 165/165 [01:38<00:00,  1.68it/s, loss=1.28] \n"
     ]
    },
    {
     "name": "stdout",
     "output_type": "stream",
     "text": [
      "Epoch 9 | Valid Loss: 1.2074 | Valid F1: 0.5304 | Valid Acc: 0.4658\n",
      "✨ New best model saved with F1-score: 0.5304\n",
      "\n",
      "--- Epoch 10/10 ---\n"
     ]
    },
    {
     "name": "stderr",
     "output_type": "stream",
     "text": [
      "Training: 100%|██████████| 769/769 [24:09<00:00,  1.88s/it, loss=1.12] \n"
     ]
    },
    {
     "name": "stdout",
     "output_type": "stream",
     "text": [
      "Epoch 10 | Train Loss: 1.1936 | Train Acc: 0.4672\n"
     ]
    },
    {
     "name": "stderr",
     "output_type": "stream",
     "text": [
      "Evaluating: 100%|██████████| 165/165 [01:35<00:00,  1.73it/s, loss=1.25] \n"
     ]
    },
    {
     "name": "stdout",
     "output_type": "stream",
     "text": [
      "Epoch 10 | Valid Loss: 1.1684 | Valid F1: 0.5523 | Valid Acc: 0.4915\n",
      "✨ New best model saved with F1-score: 0.5523\n",
      "\n",
      "🏁 Training finished.\n"
     ]
    }
   ],
   "source": [
    "print(\"\\n🚀 Starting model training...\")\n",
    "best_valid_f1 = 0.0\n",
    "history = {\n",
    "    'train_loss': [],\n",
    "    'train_acc': [],\n",
    "    'train_f1': [],\n",
    "    'train_precision': [],\n",
    "    'train_recall': [],\n",
    "    'valid_loss': [],\n",
    "    'valid_acc': [],\n",
    "    'valid_f1': [],\n",
    "    'valid_precision': [],\n",
    "    'valid_recall': [],\n",
    "}\n",
    "\n",
    "for epoch in range(NUM_EPOCHS):\n",
    "    print(f\"\\n--- Epoch {epoch+1}/{NUM_EPOCHS} ---\")\n",
    "    \n",
    "    train_loss, train_metrics = train_one_epoch(model, train_loader, criterion, optimizer, DEVICE)\n",
    "    history['train_loss'].append(train_loss)\n",
    "    history['train_acc'].append(train_metrics['accuracy'])\n",
    "    history['train_f1'].append(train_metrics['f1'])\n",
    "    history['train_precision'].append(train_metrics['precision'])\n",
    "    history['train_recall'].append(train_metrics['recall'])\n",
    "\n",
    "    print(f\"Epoch {epoch+1} | Train Loss: {train_loss:.4f} | Train Acc: {train_metrics['accuracy']:.4f}\")\n",
    "\n",
    "    valid_loss, valid_metrics, _, _ = evaluate(model, valid_loader, criterion, DEVICE)\n",
    "    history['valid_loss'].append(valid_loss)\n",
    "    history['valid_acc'].append(valid_metrics['accuracy'])\n",
    "    history['valid_f1'].append(valid_metrics['f1'])\n",
    "    history['valid_precision'].append(valid_metrics['precision'])\n",
    "    history['valid_recall'].append(valid_metrics['recall'])\n",
    "    \n",
    "    print(f\"Epoch {epoch+1} | Valid Loss: {valid_loss:.4f} | Valid F1: {valid_metrics['f1']:.4f} | Valid Acc: {valid_metrics['accuracy']:.4f}\")\n",
    "\n",
    "    scheduler.step(valid_loss)\n",
    "\n",
    "    # Model Checkpointing\n",
    "    if valid_metrics['f1'] > best_valid_f1:\n",
    "        best_valid_f1 = valid_metrics['f1']\n",
    "        torch.save(model.state_dict(), 'best_model.pth')\n",
    "        print(f\"✨ New best model saved with F1-score: {best_valid_f1:.4f}\")\n",
    "\n",
    "print(\"\\n🏁 Training finished.\")"
   ]
  },
  {
   "cell_type": "markdown",
   "metadata": {},
   "source": [
    "### Evaluate"
   ]
  },
  {
   "cell_type": "code",
   "execution_count": 21,
   "metadata": {},
   "outputs": [
    {
     "name": "stdout",
     "output_type": "stream",
     "text": [
      "\n",
      "📈 Evaluating model on the test set...\n"
     ]
    },
    {
     "name": "stderr",
     "output_type": "stream",
     "text": [
      "Evaluating: 100%|██████████| 165/165 [01:51<00:00,  1.48it/s, loss=1.08] "
     ]
    },
    {
     "name": "stdout",
     "output_type": "stream",
     "text": [
      "\n",
      "--- Final Test Metrics ---\n",
      "Accuracy:  0.4937\n",
      "F1 Score (Weighted): 0.5523\n",
      "Precision (Weighted): 0.6827\n",
      "Recall (Weighted): 0.4937\n",
      "\n",
      "--- Per-Class Metrics ---\n",
      "  Class  Precision    Recall  F1-Score\n",
      "0     0   0.852781  0.531266  0.654680\n",
      "1     1   0.101737  0.328000  0.155303\n",
      "2     2   0.273843  0.354957  0.309168\n",
      "3     3   0.202864  0.629630  0.306859\n",
      "4     4   0.338542  0.619048  0.437710\n"
     ]
    },
    {
     "name": "stderr",
     "output_type": "stream",
     "text": [
      "\n"
     ]
    }
   ],
   "source": [
    "import pandas as pd\n",
    "\n",
    "print(\"\\n📈 Evaluating model on the test set...\")\n",
    "\n",
    "# Load the best model\n",
    "model.load_state_dict(torch.load('best_model.pth'))\n",
    "\n",
    "test_loss, test_metrics, test_labels, test_preds = evaluate(model, test_loader, criterion, DEVICE)\n",
    "\n",
    "print(\"\\n--- Final Test Metrics ---\")\n",
    "print(f\"Accuracy:  {test_metrics['accuracy']:.4f}\")\n",
    "print(f\"F1 Score (Weighted): {test_metrics['f1']:.4f}\")\n",
    "print(f\"Precision (Weighted): {test_metrics['precision']:.4f}\")\n",
    "print(f\"Recall (Weighted): {test_metrics['recall']:.4f}\")\n",
    "\n",
    "# Per-class metrics\n",
    "f1_per_class = f1_score(test_labels, test_preds, average=None)\n",
    "precision_per_class = precision_score(test_labels, test_preds, average=None)\n",
    "recall_per_class = recall_score(test_labels, test_preds, average=None)\n",
    "\n",
    "print(\"\\n--- Per-Class Metrics ---\")\n",
    "metrics_df = pd.DataFrame({\n",
    "    'Class': class_names,\n",
    "    'Precision': precision_per_class,\n",
    "    'Recall': recall_per_class,\n",
    "    'F1-Score': f1_per_class\n",
    "})\n",
    "print(metrics_df)"
   ]
  },
  {
   "cell_type": "markdown",
   "metadata": {},
   "source": [
    "### Confusion Matrix"
   ]
  },
  {
   "cell_type": "code",
   "execution_count": 22,
   "metadata": {},
   "outputs": [
    {
     "name": "stdout",
     "output_type": "stream",
     "text": [
      "\n",
      "📊 Generating confusion matrix...\n"
     ]
    },
    {
     "data": {
      "image/png": "[encoded data removed]",
      "text/plain": [
       "<Figure size 1000x800 with 2 Axes>"
      ]
     },
     "metadata": {},
     "output_type": "display_data"
    }
   ],
   "source": [
    "import seaborn as sns\n",
    "import matplotlib.pyplot as plt\n",
    "\n",
    "print(\"\\n📊 Generating confusion matrix...\")\n",
    "cm = confusion_matrix(test_labels, test_preds)\n",
    "plt.figure(figsize=(10, 8))\n",
    "sns.heatmap(cm, annot=True, fmt='d', cmap='Blues', xticklabels=class_names, yticklabels=class_names)\n",
    "plt.title('Confusion Matrix on Test Set')\n",
    "plt.xlabel('Predicted Label')\n",
    "plt.ylabel('True Label')\n",
    "plt.show()"
   ]
  },
  {
   "cell_type": "markdown",
   "metadata": {},
   "source": [
    "### Plot Training History"
   ]
  },
  {
   "cell_type": "code",
   "execution_count": 27,
   "metadata": {},
   "outputs": [
    {
     "name": "stdout",
     "output_type": "stream",
     "text": [
      "\n",
      "📊 Plotting training history...\n"
     ]
    },
    {
     "data": {
      "image/png": "[encoded data removed]",
      "text/plain": [
       "<Figure size 1500x500 with 2 Axes>"
      ]
     },
     "metadata": {},
     "output_type": "display_data"
    }
   ],
   "source": [
    "print(\"\\n📊 Plotting training history...\")\n",
    "fig, (ax1, ax2) = plt.subplots(1, 2, figsize=(15, 5))\n",
    "ax1.plot(history['train_loss'], label='Train Loss')\n",
    "ax1.plot(history['valid_loss'], label='Validation Loss')\n",
    "ax1.set_title('Loss Over Epochs')\n",
    "ax1.set_xlabel('Epochs')\n",
    "ax1.set_ylabel('Loss')\n",
    "ax1.legend()\n",
    "\n",
    "ax2.plot(history['train_acc'], label='Train Accuracy')\n",
    "ax2.plot(history['valid_acc'], label='Validation Accuracy')\n",
    "ax2.set_title('Accuracy Over Epochs')\n",
    "ax2.set_xlabel('Epochs')\n",
    "ax2.set_ylabel('Score')\n",
    "ax2.legend()\n",
    "plt.show()"
   ]
  },
  {
   "cell_type": "code",
   "execution_count": 24,
   "metadata": {},
   "outputs": [],
   "source": [
    "metrics_df.to_csv(\"metrics.csv\", index=True)"
   ]
  },
  {
   "cell_type": "code",
   "execution_count": 25,
   "metadata": {},
   "outputs": [],
   "source": [
    "import json\n",
    "\n",
    "with open('history.json', 'w') as file:\n",
    "    json.dump(history, file, indent=4)"
   ]
  }
 ],
 "metadata": {
  "kernelspec": {
   "display_name": "venv",
   "language": "python",
   "name": "python3"
  },
  "language_info": {
   "codemirror_mode": {
    "name": "ipython",
    "version": 3
   },
   "file_extension": ".py",
   "mimetype": "text/x-python",
   "name": "python",
   "nbconvert_exporter": "python",
   "pygments_lexer": "ipython3",
   "version": "3.13.7"
  }
 },
 "nbformat": 4,
 "nbformat_minor": 4
}
